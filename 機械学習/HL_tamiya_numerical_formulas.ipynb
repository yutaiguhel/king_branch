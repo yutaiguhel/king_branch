{
 "cells": [
  {
   "cell_type": "code",
   "execution_count": 4,
   "metadata": {
    "collapsed": true
   },
   "outputs": [],
   "source": [
    "#効用まわりの計算式"
   ]
  },
  {
   "cell_type": "markdown",
   "metadata": {},
   "source": [
    "$$L_{i}={}_n C _rp^{r}_{i}(1-p_{i})^{n-r}$$"
   ]
  },
  {
   "cell_type": "markdown",
   "metadata": {},
   "source": [
    "\\begin{align}\n",
    "U&=\\mathrm{Tr}[\\mathrm{Q}(\\mathbf{x}-\\mathbf{x'})^{\\mathrm{T}}(\\mathbf{x}-\\mathbf{x'})]\\nonumber \\\\\n",
    "&=\\sum_{i,j=1}^{N}(w_{i}x_{ij}(1-L_{i}))^{2}\\nonumber　\\\\\n",
    "\\end{align}"
   ]
  },
  {
   "cell_type": "markdown",
   "metadata": {},
   "source": [
    "\\begin{align}\n",
    "\\frac{\\partial U}{\\partial p_{i}}=\\sum_{i,j=1}^{N}2{}_n C _r(w_{i}x_{ij}(1-L_{i}))(p_{i}^{r}(n-r)(1-p_{i}^{n-r-1})-rp_{i}^{r-1}(1-p_{i})^{n-r})\\nonumber\\\\\n",
    "\\end{align}"
   ]
  }
 ],
 "metadata": {
  "kernelspec": {
   "display_name": "Python 3",
   "language": "python",
   "name": "python3"
  },
  "language_info": {
   "codemirror_mode": {
    "name": "ipython",
    "version": 3
   },
   "file_extension": ".py",
   "mimetype": "text/x-python",
   "name": "python",
   "nbconvert_exporter": "python",
   "pygments_lexer": "ipython3",
   "version": "3.6.1"
  }
 },
 "nbformat": 4,
 "nbformat_minor": 2
}
